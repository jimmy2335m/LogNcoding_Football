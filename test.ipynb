{
 "cells": [
  {
   "cell_type": "code",
   "execution_count": 6,
   "metadata": {},
   "outputs": [],
   "source": [
    "a=[3, 2, 4, 1, 5, 6, 7]"
   ]
  },
  {
   "cell_type": "code",
   "execution_count": 7,
   "metadata": {},
   "outputs": [
    {
     "name": "stdout",
     "output_type": "stream",
     "text": [
      "7\n"
     ]
    }
   ],
   "source": [
    "print(len(a))"
   ]
  },
  {
   "cell_type": "code",
   "execution_count": 9,
   "metadata": {},
   "outputs": [
    {
     "data": {
      "text/plain": [
       "28"
      ]
     },
     "execution_count": 9,
     "metadata": {},
     "output_type": "execute_result"
    }
   ],
   "source": [
    "sum_a (a)"
   ]
  },
  {
   "cell_type": "code",
   "execution_count": 20,
   "metadata": {},
   "outputs": [],
   "source": [
    "def sum_X(a):\n",
    "    tmp = 0\n",
    "    for i in range(len(a)):\n",
    "        print(\"Before i: {}, X[i], {}, tmp: {}\".format(i, a[i], tmp))\n",
    "        tmp = tmp +a[i]\n",
    "        print(\"After i: {}, X[i], {}, tmp: {}\".format(i, a[i], tmp))\n",
    "    return tmp"
   ]
  },
  {
   "cell_type": "code",
   "execution_count": 21,
   "metadata": {},
   "outputs": [
    {
     "name": "stdout",
     "output_type": "stream",
     "text": [
      "Before i: 0, X[i], 3, tmp: 0\n",
      "After i: 0, X[i], 3, tmp: 3\n",
      "Before i: 1, X[i], 2, tmp: 3\n",
      "After i: 1, X[i], 2, tmp: 5\n",
      "Before i: 2, X[i], 4, tmp: 5\n",
      "After i: 2, X[i], 4, tmp: 9\n",
      "Before i: 3, X[i], 1, tmp: 9\n",
      "After i: 3, X[i], 1, tmp: 10\n",
      "Before i: 4, X[i], 5, tmp: 10\n",
      "After i: 4, X[i], 5, tmp: 15\n",
      "Before i: 5, X[i], 6, tmp: 15\n",
      "After i: 5, X[i], 6, tmp: 21\n",
      "Before i: 6, X[i], 7, tmp: 21\n",
      "After i: 6, X[i], 7, tmp: 28\n",
      "28\n"
     ]
    }
   ],
   "source": [
    "sum_value = sum_X(a)\n",
    "print(sum_value)"
   ]
  },
  {
   "cell_type": "code",
   "execution_count": null,
   "metadata": {},
   "outputs": [],
   "source": []
  }
 ],
 "metadata": {
  "interpreter": {
   "hash": "889be02b1a3cafe6f66ab8442d7784932baf36d3a291d0cfcc9c96478bac4c85"
  },
  "kernelspec": {
   "display_name": "Python 3.8.8 64-bit ('base': conda)",
   "language": "python",
   "name": "python3"
  },
  "language_info": {
   "codemirror_mode": {
    "name": "ipython",
    "version": 3
   },
   "file_extension": ".py",
   "mimetype": "text/x-python",
   "name": "python",
   "nbconvert_exporter": "python",
   "pygments_lexer": "ipython3",
   "version": "3.8.8"
  },
  "orig_nbformat": 4
 },
 "nbformat": 4,
 "nbformat_minor": 2
}
