{
 "cells": [
  {
   "cell_type": "code",
   "execution_count": 1,
   "metadata": {},
   "outputs": [
    {
     "data": {
      "text/plain": [
       "'\\nMachine Learning\\na.k.a. Neural Network\\n\\nBackground\\n1. 데이터 수 상당히 많음\\n2. 그에 따라서 그 데이터를 가지고 연산값이 너무 큼 (빅데이터) = computational cost\\n\\n머신 러닝 도입 이전에는,\\nLinear regression, quadratic regression, ... 등 y = ax^2 + bx + c // y = ax + b\\n\\nEquations -> Layer -> Network\\n\\nHidden layer:\\n1. 기계가 알아서 위와 같은 식을 만들어서 최적의 식을 만들어냄\\n2. 저희는 이 network가 또는 layer가 어떤 식을 사용하고, 어떤 방식으로 output을 만들어내는지 모름.\\n\\n- Hyperparameter\\n1. User (저희)가 조정할 수 있는 파라미터 값\\n2. 조정한 값이 다르면, 결과가 달라지는 경향이 있음\\nex) epoch, learning rate, ...\\n\\n- Paramter\\n1. model / network에 있는 variable\\n\\n- Weights\\n1. neuron 들의 variable\\n\\n'"
      ]
     },
     "execution_count": 1,
     "metadata": {},
     "output_type": "execute_result"
    }
   ],
   "source": [
    "\"\"\"\n",
    "Machine Learning:\n",
    "1. Regression\n",
    "- Number, quantitative decision\n",
    "- Potential: numerical value (prediction)\n",
    "- 한 그래프를 그려 예측하는 방법\n",
    "\n",
    "2. Classification\n",
    "- Categorical decision\n",
    "- Nationality: categorical value (prediction)\n",
    "- cluster화 시켜 그룹을 예측하는 방법\n",
    "- Computer vision: 영상 분석, 정해진 Label 안에서 그룹을 예측한다.\n",
    "\"\"\"\n",
    "\n",
    "\"\"\"\n",
    "Machine Learning\n",
    "a.k.a. Neural Network\n",
    "\n",
    "Background\n",
    "1. 데이터 수 상당히 많음\n",
    "2. 그에 따라서 그 데이터를 가지고 연산값이 너무 큼 (빅데이터) = computational cost\n",
    "\n",
    "머신 러닝 도입 이전에는,\n",
    "Linear regression, quadratic regression, ... 등 y = ax^2 + bx + c // y = ax + b\n",
    "\n",
    "Equations -> Layer -> Network\n",
    "\n",
    "Hidden layer:\n",
    "1. 기계가 알아서 위와 같은 식을 만들어서 최적의 식을 만들어냄\n",
    "2. 저희는 이 network가 또는 layer가 어떤 식을 사용하고, 어떤 방식으로 output을 만들어내는지 모름.\n",
    "\n",
    "- Hyperparameter\n",
    "1. User (저희)가 조정할 수 있는 파라미터 값\n",
    "2. 조정한 값이 다르면, 결과가 달라지는 경향이 있음\n",
    "ex) epoch, learning rate, ...\n",
    "\n",
    "- Paramter\n",
    "1. model / network에 있는 variable\n",
    "\n",
    "- Weights\n",
    "1. neuron 들의 variable\n",
    "\n",
    "\"\"\""
   ]
  },
  {
   "cell_type": "code",
   "execution_count": 2,
   "metadata": {},
   "outputs": [],
   "source": [
    "import torch\n",
    "import torch.nn.functional as F\n",
    "\n",
    "class LinearRegression(torch.nn.Module):\n",
    "    def __init__(self, inputSize, hiddenSize, outputSize):\n",
    "        super(LinearRegression, self).__init__()\n",
    "        self.hidden = torch.nn.Linear(inputSize, hiddenSize)\n",
    "        self.predict = torch.nn.Linear(hiddenSize, outputSize)\n",
    "    \n",
    "    def forward(self, x):\n",
    "        out = self.hidden(x)\n",
    "        out = F.relu(out)       #ReLU: REctified Linear Unit\n",
    "        out = self.predict(out)\n",
    "        return out"
   ]
  },
  {
   "cell_type": "code",
   "execution_count": 3,
   "metadata": {},
   "outputs": [],
   "source": [
    "import numpy as np\n",
    "import pandas as pd\n",
    "import matplotlib.pyplot as plt\n",
    "\n",
    "csv_15 = pd.read_csv('./players_15.csv')\n",
    "\n",
    "#input_columns = ['overall', 'age', 'height_cm', 'weight_kg', 'international_reputation', 'weak_foot', 'skill_moves']\n",
    "input_columns = ['overall']\n",
    "\n",
    "x_train = csv_15[input_columns].to_numpy()\n",
    "y_train = csv_15['potential'].to_numpy()\n",
    "\n",
    "x_train = x_train.reshape(-1, 1)\n",
    "y_train = y_train.reshape(-1, 1)"
   ]
  },
  {
   "cell_type": "code",
   "execution_count": 4,
   "metadata": {},
   "outputs": [],
   "source": [
    "inputDim = len(input_columns)       # 1\n",
    "hiddenDim = 5\n",
    "outputDim = 1\n",
    "\n",
    "\"\"\"\n",
    "Network Structure\n",
    "Output layer:    o\n",
    "Hidden layer: o o o o o\n",
    "Input layer:     o\n",
    "\"\"\"\n",
    "\n",
    "learningRate = 0.00001\n",
    "epochs = 100\n",
    "#num of iteration"
   ]
  },
  {
   "cell_type": "code",
   "execution_count": 5,
   "metadata": {},
   "outputs": [
    {
     "name": "stdout",
     "output_type": "stream",
     "text": [
      "LinearRegression(\n",
      "  (hidden): Linear(in_features=1, out_features=5, bias=True)\n",
      "  (predict): Linear(in_features=5, out_features=1, bias=True)\n",
      ")\n"
     ]
    }
   ],
   "source": [
    "#MSE: Mean Square Error\n",
    "#RMSE: Root Mean Square Error\n",
    "\n",
    "#SGD: Stochastic Gradient Descent\n",
    "\n",
    "model = LinearRegression(inputDim, hiddenDim, outputDim)\n",
    "print(model)\n",
    "\n",
    "criterion = torch.nn.MSELoss()\n",
    "optimizer = torch.optim.SGD(model.parameters(), lr=learningRate)"
   ]
  },
  {
   "cell_type": "code",
   "execution_count": 6,
   "metadata": {},
   "outputs": [
    {
     "name": "stdout",
     "output_type": "stream",
     "text": [
      "Epoch 0, Loss 8222.18945\n",
      "Epoch 1, Loss 6809.77539\n",
      "Epoch 2, Loss 5768.64746\n",
      "Epoch 3, Loss 4945.16309\n",
      "Epoch 4, Loss 4258.14844\n",
      "Epoch 5, Loss 3662.53711\n",
      "Epoch 6, Loss 3133.08521\n",
      "Epoch 7, Loss 2656.31201\n",
      "Epoch 8, Loss 2225.79395\n",
      "Epoch 9, Loss 1839.25549\n",
      "Epoch 10, Loss 1496.45923\n",
      "Epoch 11, Loss 1197.66248\n",
      "Epoch 12, Loss 942.56665\n",
      "Epoch 13, Loss 729.71954\n",
      "Epoch 14, Loss 556.32794\n",
      "Epoch 15, Loss 418.44437\n",
      "Epoch 16, Loss 311.33698\n",
      "Epoch 17, Loss 229.96555\n",
      "Epoch 18, Loss 169.40579\n",
      "Epoch 19, Loss 125.16963\n",
      "Epoch 20, Loss 93.3892\n",
      "Epoch 21, Loss 70.8906\n",
      "Epoch 22, Loss 55.16283\n",
      "Epoch 23, Loss 44.28775\n",
      "Epoch 24, Loss 36.83681\n",
      "Epoch 25, Loss 31.77158\n",
      "Epoch 26, Loss 28.35053\n",
      "Epoch 27, Loss 26.05236\n",
      "Epoch 28, Loss 24.51543\n",
      "Epoch 29, Loss 23.49137\n",
      "Epoch 30, Loss 22.81111\n",
      "Epoch 31, Loss 22.36034\n",
      "Epoch 32, Loss 22.06224\n",
      "Epoch 33, Loss 21.86544\n",
      "Epoch 34, Loss 21.73568\n",
      "Epoch 35, Loss 21.65022\n",
      "Epoch 36, Loss 21.59399\n",
      "Epoch 37, Loss 21.55701\n",
      "Epoch 38, Loss 21.53271\n",
      "Epoch 39, Loss 21.51674\n",
      "Epoch 40, Loss 21.50627\n",
      "Epoch 41, Loss 21.49939\n",
      "Epoch 42, Loss 21.49486\n",
      "Epoch 43, Loss 21.4919\n",
      "Epoch 44, Loss 21.48994\n",
      "Epoch 45, Loss 21.48867\n",
      "Epoch 46, Loss 21.48782\n",
      "Epoch 47, Loss 21.48727\n",
      "Epoch 48, Loss 21.48689\n",
      "Epoch 49, Loss 21.48666\n",
      "Epoch 50, Loss 21.48651\n",
      "Epoch 51, Loss 21.48639\n",
      "Epoch 52, Loss 21.48631\n",
      "Epoch 53, Loss 21.48626\n",
      "Epoch 54, Loss 21.48624\n",
      "Epoch 55, Loss 21.4862\n",
      "Epoch 56, Loss 21.48617\n",
      "Epoch 57, Loss 21.48616\n",
      "Epoch 58, Loss 21.48617\n",
      "Epoch 59, Loss 21.48613\n",
      "Epoch 60, Loss 21.48613\n",
      "Epoch 61, Loss 21.48612\n",
      "Epoch 62, Loss 21.48612\n",
      "Epoch 63, Loss 21.4861\n",
      "Epoch 64, Loss 21.4861\n",
      "Epoch 65, Loss 21.4861\n",
      "Epoch 66, Loss 21.48609\n",
      "Epoch 67, Loss 21.48606\n",
      "Epoch 68, Loss 21.48608\n",
      "Epoch 69, Loss 21.48606\n",
      "Epoch 70, Loss 21.48605\n",
      "Epoch 71, Loss 21.48605\n",
      "Epoch 72, Loss 21.48603\n",
      "Epoch 73, Loss 21.48604\n",
      "Epoch 74, Loss 21.48601\n",
      "Epoch 75, Loss 21.48601\n",
      "Epoch 76, Loss 21.486\n",
      "Epoch 77, Loss 21.48601\n",
      "Epoch 78, Loss 21.48599\n",
      "Epoch 79, Loss 21.48598\n",
      "Epoch 80, Loss 21.48598\n",
      "Epoch 81, Loss 21.48598\n",
      "Epoch 82, Loss 21.48595\n",
      "Epoch 83, Loss 21.48595\n",
      "Epoch 84, Loss 21.48596\n",
      "Epoch 85, Loss 21.48593\n",
      "Epoch 86, Loss 21.48594\n",
      "Epoch 87, Loss 21.48593\n",
      "Epoch 88, Loss 21.48591\n",
      "Epoch 89, Loss 21.4859\n",
      "Epoch 90, Loss 21.4859\n",
      "Epoch 91, Loss 21.4859\n",
      "Epoch 92, Loss 21.48589\n",
      "Epoch 93, Loss 21.48586\n",
      "Epoch 94, Loss 21.48588\n",
      "Epoch 95, Loss 21.48586\n",
      "Epoch 96, Loss 21.48585\n",
      "Epoch 97, Loss 21.48585\n",
      "Epoch 98, Loss 21.48583\n",
      "Epoch 99, Loss 21.48584\n"
     ]
    }
   ],
   "source": [
    "\"\"\"\n",
    "Converge: loss 값이 더 이상 변하지 않을 때\n",
    " = 이미 최적화가 되어 loss 값이 최소화되었을 때\n",
    "\n",
    "Converge 잘못 되었을때:\n",
    "1. Overfitting\n",
    "2. Underfitting\n",
    "\"\"\"\n",
    "\n",
    "total_loss = []\n",
    "\n",
    "#training phase\n",
    "for epoch in range(epochs):\n",
    "    if torch.cuda.is_available():\n",
    "        inputs = torch.from_numpy(x_train).float().cuda()\n",
    "        labels = torch.from_numpy(y_train).float().cuda()\n",
    "    else:\n",
    "        inputs = torch.from_numpy(x_train).float()\n",
    "        labels = torch.from_numpy(y_train).float()\n",
    "\n",
    "    #optimizer 초기화\n",
    "    optimizer.zero_grad()\n",
    "\n",
    "    #현재 모델에 입력값을 대입하여 예측값 생산\n",
    "    outputs = model(inputs)\n",
    "\n",
    "    #Loss function을 이용한 loss 계산\n",
    "    loss = criterion(outputs, labels)\n",
    "\n",
    "    #Backward Propagation: Loss에 따라 weight를 얼마만큼 조정해야 되는지 계산\n",
    "    loss.backward()\n",
    "    optimizer.step()\n",
    "\n",
    "    total_loss.append(loss.item())\n",
    "    print('Epoch {}, Loss {}'.format(epoch, np.round(loss.item(), 5)))"
   ]
  },
  {
   "cell_type": "code",
   "execution_count": 7,
   "metadata": {},
   "outputs": [
    {
     "name": "stdout",
     "output_type": "stream",
     "text": [
      "[[99.56525 ]\n",
      " [98.48576 ]\n",
      " [96.3268  ]\n",
      " ...\n",
      " [42.352726]\n",
      " [42.352726]\n",
      " [42.352726]]\n"
     ]
    },
    {
     "data": {
      "image/png": "[encoded data removed]",
      "text/plain": [
       "<Figure size 432x288 with 1 Axes>"
      ]
     },
     "metadata": {
      "needs_background": "light"
     },
     "output_type": "display_data"
    },
    {
     "data": {
      "image/png": "[encoded data removed]",
      "text/plain": [
       "<Figure size 432x288 with 1 Axes>"
      ]
     },
     "metadata": {
      "needs_background": "light"
     },
     "output_type": "display_data"
    }
   ],
   "source": [
    "with torch.no_grad():\n",
    "    if torch.cuda.is_available():\n",
    "        predicted = model(torch.from_numpy(x_train).float().cuda()).cpu().data.numpy()\n",
    "    else:\n",
    "        predicted = model(torch.from_numpy(x_train).float()).data.numpy()\n",
    "    print(predicted)\n",
    "\n",
    "plt.clf()\n",
    "plt.plot(x_train, y_train, 'go', label='True data', alpha=0.5)\n",
    "plt.plot(x_train, predicted, '-r', label='Predictions', alpha=0.5)\n",
    "plt.legend(loc='best')\n",
    "plt.show()\n",
    "\n",
    "plt.clf()\n",
    "plt.plot(total_loss, '-b', label='Loss')\n",
    "plt.legend(loc='best')\n",
    "plt.show()"
   ]
  },
  {
   "cell_type": "code",
   "execution_count": 13,
   "metadata": {},
   "outputs": [
    {
     "data": {
      "image/png": "[encoded data removed]",
      "text/plain": [
       "<Figure size 720x288 with 1 Axes>"
      ]
     },
     "metadata": {
      "needs_background": "light"
     },
     "output_type": "display_data"
    },
    {
     "data": {
      "image/png": "[encoded data removed]",
      "text/plain": [
       "<Figure size 864x504 with 1 Axes>"
      ]
     },
     "metadata": {
      "needs_background": "light"
     },
     "output_type": "display_data"
    }
   ],
   "source": [
    "import torch\n",
    "from torch.autograd import Variable\n",
    "import torch.nn.functional as F\n",
    "import torch.utils.data as Data\n",
    "\n",
    "import matplotlib.pyplot as plt\n",
    "%matplotlib inline\n",
    "\n",
    "import numpy as np\n",
    "import imageio\n",
    "\n",
    "\n",
    "torch.manual_seed(1)    # reproducible\n",
    "\n",
    "x = torch.unsqueeze(torch.linspace(-1, 1, 100), dim=1)  # x data (tensor), shape=(100, 1)\n",
    "y = x.pow(2) + 0.2*torch.rand(x.size())                 # noisy y data (tensor), shape=(100, 1)\n",
    "#y = x^2 + b\n",
    "\n",
    "# torch can only train on Variable, so convert them to Variable\n",
    "x, y = Variable(x), Variable(y)\n",
    "\n",
    "# view data\n",
    "plt.figure(figsize=(10,4))\n",
    "plt.scatter(x.data.numpy(), y.data.numpy(), color = \"orange\")\n",
    "plt.title('Regression Analysis')\n",
    "plt.xlabel('Independent varible')\n",
    "plt.ylabel('Dependent varible')\n",
    "plt.show()\n",
    "\n",
    "# this is one way to define a network\n",
    "class Net(torch.nn.Module):\n",
    "    def __init__(self, n_feature, n_hidden, n_output):\n",
    "        super(Net, self).__init__()\n",
    "        self.hidden = torch.nn.Linear(n_feature, n_hidden)   # hidden layer\n",
    "        self.predict = torch.nn.Linear(n_hidden, n_output)   # output layer\n",
    "\n",
    "    def forward(self, x):\n",
    "        x = F.relu(self.hidden(x))      # activation function for hidden layer\n",
    "        x = self.predict(x)             # linear output\n",
    "        return x\n",
    "\n",
    "net = Net(n_feature=1, n_hidden=10, n_output=1)     # define the network\n",
    "# print(net)  # net architecture\n",
    "optimizer = torch.optim.SGD(net.parameters(), lr=0.2)\n",
    "loss_func = torch.nn.MSELoss()  # this is for regression mean squared loss\n",
    "\n",
    "my_images = []\n",
    "fig, ax = plt.subplots(figsize=(12,7))\n",
    "\n",
    "# train the network\n",
    "for t in range(200):\n",
    "  \n",
    "    prediction = net(x)     # input x and predict based on x\n",
    "\n",
    "    loss = loss_func(prediction, y)     # must be (1. nn output, 2. target)\n",
    "\n",
    "    optimizer.zero_grad()   # clear gradients for next train\n",
    "    loss.backward()         # backpropagation, compute gradients\n",
    "    optimizer.step()        # apply gradients\n",
    "    \n",
    "    # plot and show learning process\n",
    "    plt.cla()\n",
    "    ax.set_title('Regression Analysis', fontsize=35)\n",
    "    ax.set_xlabel('Independent variable', fontsize=24)\n",
    "    ax.set_ylabel('Dependent variable', fontsize=24)\n",
    "    ax.set_xlim(-1.05, 1.5)\n",
    "    ax.set_ylim(-0.25, 1.25)\n",
    "    ax.scatter(x.data.numpy(), y.data.numpy(), color = \"orange\")\n",
    "    ax.plot(x.data.numpy(), prediction.data.numpy(), 'g-', lw=3)\n",
    "    ax.text(1.0, 0.1, 'Step = %d' % t, fontdict={'size': 24, 'color':  'red'})\n",
    "    ax.text(1.0, 0, 'Loss = %.4f' % loss.data.numpy(),\n",
    "            fontdict={'size': 24, 'color':  'red'})\n",
    "\n",
    "    # Used to return the plot as an image array \n",
    "    # (https://ndres.me/post/matplotlib-animated-gifs-easily/)\n",
    "    fig.canvas.draw()       # draw the canvas, cache the renderer\n",
    "    image = np.frombuffer(fig.canvas.tostring_rgb(), dtype='uint8')\n",
    "    image  = image.reshape(fig.canvas.get_width_height()[::-1] + (3,))\n",
    "\n",
    "    my_images.append(image)\n",
    "    \n",
    "   \n",
    "\n",
    "\n",
    "# save images as a gif    \n",
    "imageio.mimsave('./curve_1.gif', my_images, fps=10)"
   ]
  },
  {
   "cell_type": "code",
   "execution_count": 5,
   "metadata": {},
   "outputs": [
    {
     "name": "stdout",
     "output_type": "stream",
     "text": [
      "number of players on 2015:  15465\n",
      "number of players on 2016:  14881\n",
      "number of players on 2017:  17009\n",
      "number of players on 2018:  17592\n",
      "number of players on 2019:  17770\n",
      "number of players on 2020:  18278\n",
      "total number of players:  100995\n"
     ]
    }
   ],
   "source": [
    "csv_15 = pd.read_csv('./players_15.csv')\n",
    "csv_16 = pd.read_csv('./players_16.csv')\n",
    "csv_17 = pd.read_csv('./players_17.csv')\n",
    "csv_18 = pd.read_csv('./players_18.csv')\n",
    "csv_19 = pd.read_csv('./players_19.csv')\n",
    "csv_20 = pd.read_csv('./players_20.csv')\n",
    "\n",
    "\n",
    "print(\"number of players on 2015: \", len(csv_15))\n",
    "print(\"number of players on 2016: \", len(csv_16))\n",
    "print(\"number of players on 2017: \", len(csv_17))\n",
    "print(\"number of players on 2018: \", len(csv_18))\n",
    "print(\"number of players on 2019: \", len(csv_19))\n",
    "print(\"number of players on 2020: \", len(csv_20))\n",
    "\n",
    "csv_total = pd.concat([csv_15, csv_16, csv_17, csv_18, csv_19, csv_20], axis=0, ignore_index=True)\n",
    "#print(csv_total.head())\n",
    "print(\"total number of players: \", len(csv_total))\n"
   ]
  },
  {
   "cell_type": "code",
   "execution_count": 10,
   "metadata": {},
   "outputs": [
    {
     "name": "stdout",
     "output_type": "stream",
     "text": [
      "total number of players:  18278\n",
      "total number of players:  18278\n",
      "total number of players:  18278\n",
      "total number of players:  18278\n",
      "total number of players:  18278\n",
      "total number of players:  18278\n",
      "total number of players:  18278\n"
     ]
    }
   ],
   "source": [
    "\"\"\"\n",
    "range(start, end, step)\n",
    "start: inclusive 현재 들어간 값 포함 \n",
    "end: exclusvie 현재 들어간 값 미포함 \n",
    "\n",
    "./players_20.csv\n",
    "\"\"\"\n",
    "import pandas as pd\n",
    "tmp = []\n",
    "for i in range (15, 21):\n",
    "    total = \"./players_\" + str(i) + \".csv\"\n",
    "    csv_DF = pd.read_csv(total)\n",
    "    tmp.append(csv_DF)\n",
    "    print(\"total number of players: \", len(csv_DF1))\n",
    "csv_DF1 = pd.concat([csv_DF], axis=0, ignore_index=True)\n",
    "print(\"total number of players: \", len(csv_DF1))"
   ]
  },
  {
   "cell_type": "code",
   "execution_count": 11,
   "metadata": {},
   "outputs": [
    {
     "ename": "ImportError",
     "evalue": "cannot import name 'train_test_spilt' from 'sklearn.model_selection' (/Users/minjeonghyeon/opt/anaconda3/lib/python3.8/site-packages/sklearn/model_selection/__init__.py)",
     "output_type": "error",
     "traceback": [
      "\u001b[0;31m---------------------------------------------------------------------------\u001b[0m",
      "\u001b[0;31mImportError\u001b[0m                               Traceback (most recent call last)",
      "\u001b[0;32m<ipython-input-11-4d20f628d358>\u001b[0m in \u001b[0;36m<module>\u001b[0;34m\u001b[0m\n\u001b[1;32m      6\u001b[0m \u001b[0mtrain_test_split\u001b[0m\u001b[0;34m:\u001b[0m \u001b[0m전체\u001b[0m \u001b[0m데이터에서\u001b[0m \u001b[0m무작위로\u001b[0m \u001b[0;36m80\u001b[0m\u001b[0;34m%\u001b[0m\u001b[0;34m,\u001b[0m \u001b[0;36m20\u001b[0m\u001b[0;34m%\u001b[0m \u001b[0m로\u001b[0m \u001b[0m나눠주는\u001b[0m \u001b[0m함수\u001b[0m\u001b[0;34m\u001b[0m\u001b[0;34m\u001b[0m\u001b[0m\n\u001b[1;32m      7\u001b[0m \"\"\"\n\u001b[0;32m----> 8\u001b[0;31m \u001b[0;32mfrom\u001b[0m \u001b[0msklearn\u001b[0m\u001b[0;34m.\u001b[0m\u001b[0mmodel_selection\u001b[0m \u001b[0;32mimport\u001b[0m \u001b[0mtrain_test_spilt\u001b[0m\u001b[0;34m\u001b[0m\u001b[0;34m\u001b[0m\u001b[0m\n\u001b[0m\u001b[1;32m      9\u001b[0m \u001b[0;34m\u001b[0m\u001b[0m\n\u001b[1;32m     10\u001b[0m \u001b[0minput_columns\u001b[0m \u001b[0;34m=\u001b[0m \u001b[0;34m[\u001b[0m\u001b[0;34m'overall'\u001b[0m\u001b[0;34m,\u001b[0m \u001b[0;34m'age'\u001b[0m\u001b[0;34m,\u001b[0m \u001b[0;34m'height_cm'\u001b[0m\u001b[0;34m,\u001b[0m \u001b[0;34m'weight_kg'\u001b[0m \u001b[0;34m'international_reputation'\u001b[0m\u001b[0;34m,\u001b[0m \u001b[0;34m'weak_foot'\u001b[0m\u001b[0;34m,\u001b[0m \u001b[0;34m'skill_moves'\u001b[0m\u001b[0;34m]\u001b[0m\u001b[0;34m\u001b[0m\u001b[0;34m\u001b[0m\u001b[0m\n",
      "\u001b[0;31mImportError\u001b[0m: cannot import name 'train_test_spilt' from 'sklearn.model_selection' (/Users/minjeonghyeon/opt/anaconda3/lib/python3.8/site-packages/sklearn/model_selection/__init__.py)"
     ]
    }
   ],
   "source": [
    "\"\"\"\n",
    "Dataset:\n",
    "1. traing set: 이 데이터로 학습 시키는 (80%)\n",
    "2. test set: 이 데이터로 정확도 테스트 (20%)\n",
    "\n",
    "train_test_split: 전체 데이터에서 무작위로 80%, 20% 로 나눠주는 함수\n",
    "\"\"\"\n",
    "from sklearn.model_selection import train_test_spilt\n",
    "\n",
    "input_columns = ['overall', 'age', 'height_cm', 'weight_kg' 'international_reputation', 'weak_foot', 'skill_moves']\n",
    "#input_columns = ['overall']\n",
    "\n",
    "x_train = csv_total[input_columns]\n",
    "y_train = csv_total[\"potential\"]\n",
    "\n",
    "#x_train = np.reshape(x_train, -1)\n",
    "#y_train = np.reshape(y_train, -1)\n",
    "\n",
    "#x_train, x_test, y_train, y_test = train_test_split(x_train, y_train, test_size=0.2, random_state=0)\n",
    "\n",
    "print(np.shape(x_train))\n",
    "print(np.shape(y_train))"
   ]
  },
  {
   "cell_type": "code",
   "execution_count": null,
   "metadata": {},
   "outputs": [],
   "source": []
  }
 ],
 "metadata": {
  "interpreter": {
   "hash": "949777d72b0d2535278d3dc13498b2535136f6dfe0678499012e853ee9abcab1"
  },
  "kernelspec": {
   "display_name": "Python 3.6.8 64-bit",
   "language": "python",
   "name": "python3"
  },
  "language_info": {
   "codemirror_mode": {
    "name": "ipython",
    "version": 3
   },
   "file_extension": ".py",
   "mimetype": "text/x-python",
   "name": "python",
   "nbconvert_exporter": "python",
   "pygments_lexer": "ipython3",
   "version": "3.8.8"
  },
  "orig_nbformat": 4
 },
 "nbformat": 4,
 "nbformat_minor": 2
}
