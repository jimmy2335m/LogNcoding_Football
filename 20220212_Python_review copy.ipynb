{
 "cells": [
  {
   "cell_type": "markdown",
   "id": "f29c471c",
   "metadata": {},
   "source": [
    "## Write a Python program that follows the instructions"
   ]
  },
  {
   "cell_type": "markdown",
   "id": "45ce8a1c",
   "metadata": {},
   "source": [
    "### 1. Make an array that contains the integers from 1 to 20."
   ]
  },
  {
   "cell_type": "code",
   "execution_count": null,
   "id": "2dcd917a",
   "metadata": {},
   "outputs": [],
   "source": [
    "\"\"\"\n",
    "Name your array as 'A'.\n",
    "You may use for loop for this task.\n",
    "Write your code here:\n",
    "\"\"\"\n"
   ]
  },
  {
   "cell_type": "markdown",
   "id": "88e8a3c6",
   "metadata": {},
   "source": [
    "### 2. Print each element in the array A, in following format:\n",
    "#### A: [1, 2, ..., 19, 20]"
   ]
  },
  {
   "cell_type": "code",
   "execution_count": null,
   "id": "cce7c79a",
   "metadata": {},
   "outputs": [],
   "source": [
    "\"\"\"\n",
    "You may use for loop for this task.\n",
    "Write your code here:\n",
    "\"\"\"\n",
    "\n",
    "def print_array(A, name):\n",
    "\n"
   ]
  },
  {
   "cell_type": "markdown",
   "id": "1934c29c",
   "metadata": {},
   "source": [
    "### 3. Retrieve the odd integers in array A, and save them in another array, odd_A."
   ]
  },
  {
   "cell_type": "code",
   "execution_count": null,
   "id": "6509eebd",
   "metadata": {},
   "outputs": [],
   "source": [
    "\"\"\"\n",
    "You may use for loop for this task.\n",
    "Write your code here:\n",
    "\"\"\"\n",
    "\n",
    "\n",
    "print_array(odd_A, 'odd_A')"
   ]
  },
  {
   "cell_type": "markdown",
   "id": "791a861b",
   "metadata": {},
   "source": [
    "### 4. Retrieve all the even integers in array A, and square each value and print them in following format:\n",
    "#### A_squared: 4, 16, ..., 400"
   ]
  },
  {
   "cell_type": "code",
   "execution_count": null,
   "id": "9c43f73c",
   "metadata": {},
   "outputs": [],
   "source": [
    "\"\"\"\n",
    "You may use for loop for this task.\n",
    "Write your code here:\n",
    "\"\"\"\n",
    "\n",
    "\n",
    "print_array(even_A, 'even_A')"
   ]
  },
  {
   "cell_type": "markdown",
   "id": "136af26f",
   "metadata": {},
   "source": [
    "### 5. Retrieve all the prime numbers in array A, in following format:\n",
    "#### 2 is prime: True\n",
    "#### 3 is prime: True\n",
    "#### 4 is prime: False ..."
   ]
  },
  {
   "cell_type": "code",
   "execution_count": null,
   "id": "880466ad",
   "metadata": {},
   "outputs": [],
   "source": [
    "\"\"\"\n",
    "You may use for loop for this task.\n",
    "Write your code here:\n",
    "\"\"\"\n",
    "\n",
    "def check_prime(a):\n",
    "    "
   ]
  },
  {
   "cell_type": "markdown",
   "id": "bd54394b",
   "metadata": {},
   "source": [
    "### 6. Reverse the order of the array A, and print all elements."
   ]
  },
  {
   "cell_type": "code",
   "execution_count": null,
   "id": "15a2a377",
   "metadata": {},
   "outputs": [],
   "source": [
    "\"\"\"\n",
    "You may use for loop for this task.\n",
    "Write your code here:\n",
    "\"\"\"\n",
    "\n",
    "\n",
    "print_array(A, 'A')"
   ]
  },
  {
   "cell_type": "markdown",
   "id": "783fac90",
   "metadata": {},
   "source": [
    "### 7. Find 5th largest element in array A."
   ]
  },
  {
   "cell_type": "code",
   "execution_count": null,
   "id": "ac1fc36e",
   "metadata": {},
   "outputs": [],
   "source": [
    "\"\"\"\n",
    "Write your code here:\n",
    "\"\"\"\n",
    "\n"
   ]
  },
  {
   "cell_type": "markdown",
   "id": "736f129c",
   "metadata": {},
   "source": [
    "### 8. Find the minimum, median, mean, maximum values in array A, without using any other external functions."
   ]
  },
  {
   "cell_type": "code",
   "execution_count": null,
   "id": "c704882b",
   "metadata": {},
   "outputs": [],
   "source": [
    "\"\"\"\n",
    "Write your code here:\n",
    "\n",
    "Without using: np.min, np.median, np.mean, np.max\n",
    "\"\"\"\n"
   ]
  },
  {
   "cell_type": "markdown",
   "id": "d50b8e72",
   "metadata": {},
   "source": [
    "### 9. Read players_15.csv file and print the first 5 rows"
   ]
  },
  {
   "cell_type": "code",
   "execution_count": null,
   "id": "87f0ec16",
   "metadata": {},
   "outputs": [],
   "source": [
    "\"\"\"\n",
    "You may use pandas library\n",
    "Write your code here:\n",
    "\"\"\"\n",
    "\n"
   ]
  },
  {
   "cell_type": "markdown",
   "id": "0899fdaf",
   "metadata": {},
   "source": [
    "### 10. Print all the columns of players_15.csv file as a list"
   ]
  },
  {
   "cell_type": "code",
   "execution_count": 42,
   "id": "41a00240",
   "metadata": {},
   "outputs": [
    {
     "name": "stdout",
     "output_type": "stream",
     "text": [
      "['sofifa_id', 'player_url', 'short_name', 'long_name', 'age', 'dob', 'height_cm', 'weight_kg', 'nationality', 'club', 'overall', 'potential', 'value_eur', 'wage_eur', 'player_positions', 'preferred_foot', 'international_reputation', 'weak_foot', 'skill_moves', 'work_rate', 'body_type', 'real_face', 'release_clause_eur', 'player_tags', 'team_position', 'team_jersey_number', 'loaned_from', 'joined', 'contract_valid_until', 'nation_position', 'nation_jersey_number', 'pace', 'shooting', 'passing', 'dribbling', 'defending', 'physic', 'gk_diving', 'gk_handling', 'gk_kicking', 'gk_reflexes', 'gk_speed', 'gk_positioning', 'player_traits', 'attacking_crossing', 'attacking_finishing', 'attacking_heading_accuracy', 'attacking_short_passing', 'attacking_volleys', 'skill_dribbling', 'skill_curve', 'skill_fk_accuracy', 'skill_long_passing', 'skill_ball_control', 'movement_acceleration', 'movement_sprint_speed', 'movement_agility', 'movement_reactions', 'movement_balance', 'power_shot_power', 'power_jumping', 'power_stamina', 'power_strength', 'power_long_shots', 'mentality_aggression', 'mentality_interceptions', 'mentality_positioning', 'mentality_vision', 'mentality_penalties', 'mentality_composure', 'defending_marking', 'defending_standing_tackle', 'defending_sliding_tackle', 'goalkeeping_diving', 'goalkeeping_handling', 'goalkeeping_kicking', 'goalkeeping_positioning', 'goalkeeping_reflexes', 'ls', 'st', 'rs', 'lw', 'lf', 'cf', 'rf', 'rw', 'lam', 'cam', 'ram', 'lm', 'lcm', 'cm', 'rcm', 'rm', 'lwb', 'ldm', 'cdm', 'rdm', 'rwb', 'lb', 'lcb', 'cb', 'rcb', 'rb']\n"
     ]
    }
   ],
   "source": [
    "\"\"\"\n",
    "You may use pandas library\n",
    "Write your code here:\n",
    "\"\"\"\n",
    "\n"
   ]
  },
  {
   "cell_type": "markdown",
   "id": "9d05c559",
   "metadata": {},
   "source": [
    "### 11. Find following columns and save the dataframes based on the following columns in df_A. Then, print first 5 rows.\n",
    "##### 'short_name', 'age', 'height_cm', 'weight_kg', 'overall', 'potential', 'international_reputation', 'skill_moves'"
   ]
  },
  {
   "cell_type": "code",
   "execution_count": 44,
   "id": "aedaf81b",
   "metadata": {},
   "outputs": [
    {
     "name": "stdout",
     "output_type": "stream",
     "text": [
      "          short_name  age  height_cm  weight_kg  overall  potential  \\\n",
      "0           L. Messi   27        169         67       93         95   \n",
      "1  Cristiano Ronaldo   29        185         80       92         92   \n",
      "2          A. Robben   30        180         80       90         90   \n",
      "3     Z. Ibrahimović   32        195         95       90         90   \n",
      "4           M. Neuer   28        193         92       90         90   \n",
      "\n",
      "   international_reputation  skill_moves  \n",
      "0                         5            4  \n",
      "1                         5            5  \n",
      "2                         5            4  \n",
      "3                         5            4  \n",
      "4                         5            1  \n"
     ]
    }
   ],
   "source": [
    "\"\"\"\n",
    "You may use pandas library\n",
    "Write your code here:\n",
    "\"\"\"\n"
   ]
  },
  {
   "cell_type": "markdown",
   "id": "ef600c7a",
   "metadata": {},
   "source": [
    "### 12. Sort df_A by the age of players, and save the dataframe as df_A_age. Then, print the first 5 oldest players' short name and his age."
   ]
  },
  {
   "cell_type": "code",
   "execution_count": 54,
   "id": "44f2c442",
   "metadata": {},
   "outputs": [
    {
     "name": "stdout",
     "output_type": "stream",
     "text": [
      "Kim Byung Ji: 44\n",
      "P. Mathers: 44\n",
      "B. Richardson: 44\n",
      "A. Pierobon: 44\n",
      "B. Friedel: 43\n"
     ]
    }
   ],
   "source": [
    "\"\"\"\n",
    "You may use pandas library\n",
    "Write your code here:\n",
    "\"\"\"\n"
   ]
  },
  {
   "cell_type": "markdown",
   "id": "63771798",
   "metadata": {},
   "source": [
    "### 13. Save the 10 oldest players' names in txt file, as five_oldest_players.txt"
   ]
  },
  {
   "cell_type": "code",
   "execution_count": 57,
   "id": "9fc2607a",
   "metadata": {},
   "outputs": [],
   "source": [
    "\"\"\"\n",
    "Write your code here:\n",
    "\"\"\"\n"
   ]
  },
  {
   "cell_type": "code",
   "execution_count": null,
   "id": "bff59d86",
   "metadata": {},
   "outputs": [],
   "source": []
  }
 ],
 "metadata": {
  "interpreter": {
   "hash": "4cd7ab41f5fca4b9b44701077e38c5ffd31fe66a6cab21e0214b68d958d0e462"
  },
  "kernelspec": {
   "display_name": "Python 3.6.8 64-bit",
   "name": "python3"
  },
  "language_info": {
   "codemirror_mode": {
    "name": "ipython",
    "version": 3
   },
   "file_extension": ".py",
   "mimetype": "text/x-python",
   "name": "python",
   "nbconvert_exporter": "python",
   "pygments_lexer": "ipython3",
   "version": "3.6.8"
  }
 },
 "nbformat": 4,
 "nbformat_minor": 5
}
