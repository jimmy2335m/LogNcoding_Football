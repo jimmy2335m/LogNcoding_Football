{
 "cells": [
  {
   "cell_type": "code",
   "execution_count": null,
   "metadata": {},
   "outputs": [],
   "source": [
    "csv_15 = pd.read_csv('./players_15.csv')\n",
    "csv_16 = pd.read_csv('./players_16.csv')\n",
    "csv_17 = pd.read_csv('./players_17.csv')\n",
    "csv_18 = pd.read_csv('./players_18.csv')\n",
    "csv_19 = pd.read_csv('./players_19.csv')\n",
    "csv_20 = pd.read_csv('./players_20.csv')\n",
    "\n",
    "\n",
    "print(\"number of players on 2015: \", len(csv_15))\n",
    "print(\"number of players on 2016: \", len(csv_16))\n",
    "print(\"number of players on 2017: \", len(csv_17))\n",
    "print(\"number of players on 2018: \", len(csv_18))\n",
    "print(\"number of players on 2019: \", len(csv_19))\n",
    "print(\"number of players on 2020: \", len(csv_20))\n",
    "\n",
    "csv_total = pd.concat([csv_15, csv_16, csv_17, csv_18, csv_19, csv_20], axis=0, ignore_index=True)\n",
    "#print(csv_total.head())\n",
    "print(\"total number of players: \", len(csv_total))\n"
   ]
  },
  {
   "cell_type": "code",
   "execution_count": 41,
   "metadata": {},
   "outputs": [
    {
     "name": "stdout",
     "output_type": "stream",
     "text": [
      "total number of players:  15465\n",
      "total number of players:  14881\n",
      "total number of players:  17009\n",
      "total number of players:  17592\n",
      "total number of players:  17770\n",
      "total number of players:  18278\n",
      "total number of players:  100995\n"
     ]
    }
   ],
   "source": [
    "import pandas as pd\n",
    "tmp = []\n",
    "for i in range(15, 21):\n",
    "    csv_total = \"./players_\" + str(i) + \".csv\"\n",
    "    csv_DF = pd.read_csv(csv_total)\n",
    "    tmp.append(csv_DF)\n",
    "    print(\"total number of players: \", len(csv_DF))\n",
    "csv_DF1 = pd.concat(tmp, axis=0, ignore_index=True)\n",
    "print(\"total number of players: \", len(csv_DF1))\n",
    "    "
   ]
  },
  {
   "cell_type": "code",
   "execution_count": 8,
   "metadata": {},
   "outputs": [
    {
     "name": "stdout",
     "output_type": "stream",
     "text": [
      "55\n"
     ]
    }
   ],
   "source": [
    "x = 0\n",
    "\n",
    "for i in range(11):\n",
    "    x = x + i\n",
    "print(x)"
   ]
  },
  {
   "cell_type": "code",
   "execution_count": null,
   "metadata": {},
   "outputs": [],
   "source": []
  }
 ],
 "metadata": {
  "interpreter": {
   "hash": "889be02b1a3cafe6f66ab8442d7784932baf36d3a291d0cfcc9c96478bac4c85"
  },
  "kernelspec": {
   "display_name": "Python 3.8.8 64-bit ('base': conda)",
   "language": "python",
   "name": "python3"
  },
  "language_info": {
   "codemirror_mode": {
    "name": "ipython",
    "version": 3
   },
   "file_extension": ".py",
   "mimetype": "text/x-python",
   "name": "python",
   "nbconvert_exporter": "python",
   "pygments_lexer": "ipython3",
   "version": "3.8.8"
  },
  "orig_nbformat": 4
 },
 "nbformat": 4,
 "nbformat_minor": 2
}
